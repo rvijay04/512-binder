git rm BIOS512_HW4 (3).ipynb
git commit -m "Remove BIOS512_HW4 (3).ipynb"
git push origin main
